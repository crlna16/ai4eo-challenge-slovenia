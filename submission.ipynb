{
 "cells": [
  {
   "cell_type": "code",
   "execution_count": null,
   "metadata": {},
   "outputs": [],
   "source": [
    "# Built-in modules\n",
    "import os\n",
    "import json\n",
    "import datetime as dt\n",
    "from typing import Tuple, List\n",
    "\n",
    "# Basics of Python data handling and visualization\n",
    "import numpy as np\n",
    "import pandas as pd\n",
    "import geopandas as gpd\n",
    "import matplotlib.pyplot as plt\n",
    "from matplotlib.colors import ListedColormap\n",
    "from tqdm.auto import tqdm\n",
    "\n",
    "# Module for GeoDB\n",
    "from xcube_geodb.core.geodb import GeoDBClient\n",
    "\n",
    "# Imports from eo-learn and sentinelhub-py\n",
    "from sentinelhub import CRS, BBox, SHConfig, DataCollection\n",
    "\n",
    "from eolearn.core import (FeatureType,\n",
    "                          EOPatch, \n",
    "                          EOTask, \n",
    "                          LinearWorkflow, \n",
    "                          EOExecutor, \n",
    "                          LoadTask,\n",
    "                          SaveTask)\n",
    "from eolearn.io import GeoDBVectorImportTask, SentinelHubInputTask\n",
    "from eolearn.geometry import VectorToRaster\n",
    "\n",
    "# Visualisation utilities from utils.py\n",
    "import sys\n",
    "sys.path.append('./ai4eo/')\n",
    "from ai4eo.utils import get_extent, md5_encode_files"
   ]
  },
  {
   "cell_type": "code",
   "execution_count": null,
   "metadata": {},
   "outputs": [],
   "source": [
    "%matplotlib inline"
   ]
  },
  {
   "cell_type": "code",
   "execution_count": null,
   "metadata": {},
   "outputs": [],
   "source": [
    "import warnings\n",
    "warnings.filterwarnings('ignore')"
   ]
  },
  {
   "cell_type": "code",
   "execution_count": null,
   "metadata": {},
   "outputs": [],
   "source": [
    "scl_dict =  {\n",
    "    0: [0, 0, 0],  # no data\n",
    "    1: [1, 0, 0.016],  # saturated / defected\n",
    "    2: [0.525, 0.525, 0.525],  # dark area pixels\n",
    "    3: [0.467, 0.298, 0.043],  # cloud shadows\n",
    "    4: [0.063, 0.827, 0.176],  # vegetation\n",
    "    5: [1, 1, 0.325],  # bare soils\n",
    "    6: [0, 0, 1],  # water\n",
    "    7: [0.506, 0.506, 0.506],  # clouds low probability / unclassified \n",
    "    8: [0.753, 0.753, 0.753],  # clouds medium probability\n",
    "    9: [0.949, 0.949, 0.949],  # clouds high probability\n",
    "    10: [0.733, 0.773, 0.925],  # cirrus\n",
    "    11: [0.325, 1, 0.980]  # ice / snow\n",
    "}"
   ]
  },
  {
   "cell_type": "code",
   "execution_count": null,
   "metadata": {},
   "outputs": [],
   "source": [
    "submission_path = '/work/ka1176/caroline/gitlab/ai4eo-challenge/ai4eo/submission_03/'"
   ]
  },
  {
   "cell_type": "code",
   "execution_count": null,
   "metadata": {},
   "outputs": [],
   "source": [
    "from PIL import Image"
   ]
  },
  {
   "cell_type": "code",
   "execution_count": null,
   "metadata": {},
   "outputs": [],
   "source": [
    "fig, ax = plt.subplots(5, 5, sharex=True, sharey=True, figsize=[15, 15])\n",
    "ax = ax.flatten()\n",
    "\n",
    "for i,sm in enumerate(np.sort(os.listdir(submission_path))):\n",
    "    img = Image.open(os.path.join(submission_path, sm))\n",
    "    x = np.array(img)\n",
    "    ax[i].imshow(x)\n"
   ]
  },
  {
   "cell_type": "code",
   "execution_count": null,
   "metadata": {},
   "outputs": [],
   "source": [
    "i = np.random.randint(25)\n",
    "print(i)\n",
    "i = 12"
   ]
  },
  {
   "cell_type": "code",
   "execution_count": null,
   "metadata": {},
   "outputs": [],
   "source": [
    "i = 10\n",
    "path = \"/work/ka1176/shared_data/2021-ai4eo/eopatches/test/\"\n",
    "eopatch = EOPatch.load(os.path.join(path, f'eopatch-{i:02d}'))\n",
    "#highres_eopatch = EOPatch.load(f'/work/ka1176/caroline/gitlab/ai4eo-challenge/ai4eo/highres_patches/highres_eopatch-{i:02d}')\n",
    "img = Image.open(os.path.join(submission_path, f'eopatch-{i:02d}.tif'))\n",
    "x_img = np.array(img)"
   ]
  },
  {
   "cell_type": "code",
   "execution_count": null,
   "metadata": {},
   "outputs": [],
   "source": [
    "fig, axs = plt.subplots(figsize=(8, 4), ncols=2)\n",
    "\n",
    "axs[0].imshow(vis_factor * norm_factor * eopatch.data['BANDS'][0][..., [3, 2, 1]])\n",
    "axs[1].imshow(highres_eopatch.mask_timeless['PREDICTION'])"
   ]
  },
  {
   "cell_type": "code",
   "execution_count": null,
   "metadata": {},
   "outputs": [],
   "source": [
    "# choose one time index from [0..37] to visualise\n",
    "tidx = 0\n",
    "\n",
    "vis_factor = 3.5\n",
    "\n",
    "norm_factor = eopatch.scalar['NORM_FACTORS'][tidx]\n",
    "\n",
    "fig, axs = plt.subplots(figsize=(8, 4), ncols=2)\n",
    "\n",
    "axs[0].imshow(vis_factor * norm_factor * eopatch.data['BANDS'][tidx][..., [3, 2, 1]])\n",
    "axs[0].set_title(f'S2 L2A - {eopatch.timestamp[tidx]}')\n",
    "\n",
    "axs[1].imshow(x_img)\n",
    "\n",
    "fig.tight_layout()"
   ]
  },
  {
   "cell_type": "code",
   "execution_count": null,
   "metadata": {},
   "outputs": [],
   "source": [
    "x_img"
   ]
  },
  {
   "cell_type": "code",
   "execution_count": null,
   "metadata": {},
   "outputs": [],
   "source": []
  }
 ],
 "metadata": {
  "kernelspec": {
   "display_name": "new kernel",
   "language": "python",
   "name": "new-kernel"
  },
  "language_info": {
   "codemirror_mode": {
    "name": "ipython",
    "version": 3
   },
   "file_extension": ".py",
   "mimetype": "text/x-python",
   "name": "python",
   "nbconvert_exporter": "python",
   "pygments_lexer": "ipython3",
   "version": "3.8.10"
  }
 },
 "nbformat": 4,
 "nbformat_minor": 4
}
